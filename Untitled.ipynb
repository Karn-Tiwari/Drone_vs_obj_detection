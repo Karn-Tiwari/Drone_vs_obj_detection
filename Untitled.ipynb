{
 "cells": [
  {
   "cell_type": "code",
   "execution_count": 1,
   "id": "6a63876b",
   "metadata": {},
   "outputs": [
    {
     "ename": "ModuleNotFoundError",
     "evalue": "No module named 'keras'",
     "output_type": "error",
     "traceback": [
      "\u001b[1;31m---------------------------------------------------------------------------\u001b[0m",
      "\u001b[1;31mModuleNotFoundError\u001b[0m                       Traceback (most recent call last)",
      "Input \u001b[1;32mIn [1]\u001b[0m, in \u001b[0;36m<cell line: 1>\u001b[1;34m()\u001b[0m\n\u001b[1;32m----> 1\u001b[0m \u001b[38;5;28;01mfrom\u001b[39;00m \u001b[38;5;21;01mkeras\u001b[39;00m\u001b[38;5;21;01m.\u001b[39;00m\u001b[38;5;21;01mcallbacks\u001b[39;00m \u001b[38;5;28;01mimport\u001b[39;00m TensorBoard,ReduceLROnPlateau,ModelCheckpoint\n\u001b[0;32m      3\u001b[0m \u001b[38;5;28;01mfrom\u001b[39;00m \u001b[38;5;21;01mmodel\u001b[39;00m \u001b[38;5;28;01mimport\u001b[39;00m model\n\u001b[0;32m      4\u001b[0m \u001b[38;5;28;01mfrom\u001b[39;00m \u001b[38;5;21;01mutils\u001b[39;00m \u001b[38;5;28;01mimport\u001b[39;00m \u001b[38;5;241m*\u001b[39m\n",
      "\u001b[1;31mModuleNotFoundError\u001b[0m: No module named 'keras'"
     ]
    }
   ],
   "source": [
    "\n",
    "from keras.callbacks import TensorBoard,ReduceLROnPlateau,ModelCheckpoint\n",
    "\n",
    "from model import model\n",
    "from utils import *\n",
    "\n",
    "if __name__ == '__main__':\n",
    "\n",
    "    # DATA LOAD\n",
    "\n",
    "    if not os.isdir(\"data\"):\n",
    "        os.mkdir(\"data\")\n",
    "\n",
    "    if not os.isdir(\"video_test\"):\n",
    "        os.mkdir(\"video_test\")\n",
    "\n",
    "    if not os.isdir(\"weights\"):\n",
    "        os.mkdir(\"weights\")\n",
    "\n",
    "    X_train_orig, Y_train_orig, X_val_orig, Y_val_orig, X_test_orig, Y_test_orig = load_dataset(src_path='data')\n",
    "    num_classes = 1\n",
    "\n",
    "    # Normalize image vectors\n",
    "    X_train = X_train_orig / 255.\n",
    "    X_val = X_val_orig / 255.\n",
    "    X_test = X_test_orig / 255.\n",
    "\n",
    "    # Convert training and test labels to one hot matrices\n",
    "    Y_train = convert_to_one_hot(Y_train_orig, num_classes)\n",
    "    Y_val = convert_to_one_hot(Y_val_orig, num_classes)\n",
    "    Y_test = convert_to_one_hot(Y_test_orig, num_classes)\n",
    "\n",
    "    print(\"number of training examples = \" + str(X_train.shape[0]))\n",
    "    print(\"number of test examples = \" + str(X_test.shape[0]))\n",
    "    print(\"X_train shape: \" + str(X_train.shape))\n",
    "    print(\"Y_train shape: \" + str(Y_train.shape))\n",
    "    print(\"X_test shape: \" + str(X_test.shape))\n",
    "    print(\"Y_test shape: \" + str(Y_test.shape))\n",
    "\n",
    "    # HYPERPARAMS\n",
    "    img_height, img_width = 40, 40\n",
    "    batch_size = 300\n",
    "    lr = 0.0001\n",
    "    epochs = 50\n",
    "    weights_path = 'weights/vgg19.h5'\n",
    "\n",
    "    tb = TensorBoard(log_dir='./logs')\n",
    "    update_lr = ReduceLROnPlateau(monitor='val_loss', factor=0.8, patience=5, min_lr=1e-6, verbose=1)\n",
    "    checkpoint = ModelCheckpoint(weights_path, monitor='val_loss', verbose=1, save_best_only=True,\n",
    "                                 save_weights_only=True)\n",
    "\n",
    "    # MODEL AND TRAIN\n",
    "\n",
    "    model = model(img_height, img_width, num_classes, lr)\n",
    "    model.fit(X_train, Y_train, epochs=epochs, batch_size=batch_size, verbose=1, validation_data=(X_val, Y_val),\n",
    "              shuffle=True, callbacks=[checkpoint, update_lr, tb])\n",
    "\n",
    "    # MODEL TEST\n",
    "\n",
    "    model.load_weights(weights_path)\n",
    "    preds = model.evaluate(X_test, Y_test)\n",
    "    print(\"Loss = \" + str(preds[0]))\n",
    "    print(\"Test Accuracy = \" + str(preds[1]))\n"
   ]
  }
 ],
 "metadata": {
  "kernelspec": {
   "display_name": "Python 3 (ipykernel)",
   "language": "python",
   "name": "python3"
  },
  "language_info": {
   "codemirror_mode": {
    "name": "ipython",
    "version": 3
   },
   "file_extension": ".py",
   "mimetype": "text/x-python",
   "name": "python",
   "nbconvert_exporter": "python",
   "pygments_lexer": "ipython3",
   "version": "3.9.12"
  }
 },
 "nbformat": 4,
 "nbformat_minor": 5
}
